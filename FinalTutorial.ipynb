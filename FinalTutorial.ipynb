{
 "cells": [
  {
   "cell_type": "markdown",
   "metadata": {
    "collapsed": true
   },
   "source": [
    "# *Console Gaming: Forecasting  an Industry's Survival*\n",
    "### _by Anmol Srivastava, Iniyan Chezhian, & Pamela Caroline_"
   ]
  },
  {
   "cell_type": "markdown",
   "metadata": {},
   "source": [
    "     \n",
    "      \n",
    "        \n",
    "         "
   ]
  },
  {
   "cell_type": "markdown",
   "metadata": {},
   "source": [
    "### *A Dying Breed?*\n",
    "In broad terms, console gaming has a cultural place that is hard to replace; for gamers and non-gamers alike, the very mention of a video game brings to mind images of an Xbox controller, a GameBoy, or a Wii remote. Certainly, many of the same people are aware of mobile games, PC games, and games played in wildly different virtual-reality environments. However, the iconography of certain consoles, or of certain console games and franchises, is undeniable. Then why does there exist an inescapable amount of chatter regarding the demise of the console gaming industry? \n",
    "\n",
    "Indeed, there is much speculation that consoles are headed towards an inevitable replacement by both the aforementioned 'modern' gaming platforms and other, unexplored systems. Below, we've provided two reports on the matter. The first (from a technology-oriented site) highlights a recent inability of console launches to boost struggling game sales. Citing that older consoles are seeing declines in overall purchases, it argues that console-exclusive games can be user-hostile, requiring expensive set-ups and constant updates to remain functional. Conversely, the second source (a financial report) argues that based on console games' current market domination, the console industry may see its biggest boost ever within the next five years. \n",
    "    - https://www.cnet.com/news/video-game-industry-struggles-to-grow-a-year-after-new-console-launches/\n",
    "    - https://www.grandviewresearch.com/industry-analysis/gaming-console-market \n",
    "   \n",
    "### *Why should you care - and what can you learn - about this issue?*\n",
    "\n",
    "Clearly, this is a multi-faceted issue in need of clear-cut further analysis. And not just video-gamers are affected by this topic! Many life-changing innovations are dervied from gaming equipment and theory. For instance, the Xbox Kinect can be used to develop concussion analysis and treatment options. But at the same time, modern VR technology is becoming increasingly used in military __and__ medical training, a trend that traditional consoles have little place in. The respective summaries for these advances are below.   \n",
    "    - https://www.nbcwashington.com/news/health/Md-Teen-Develops-New-Concussion-Tool-After-Serious-Injury-351209771.html\n",
    "    - https://medcitynews.com/2017/10/medical-education-through-competitive-virtual-reality-video-games/\n",
    "    - https://science.howstuffworks.com/gamer-soldier2.htm\n",
    "\n",
    "Undoubtedly, this debate will have tangible impacts. Many markets depend on video games' innovative hardware and software: tools that further our ability to visualize, compute, and store information. You, on the other hand, may simply be an avid gamer that is concerned about new consoles' desperate prioritization of online play over local play. Or perhaps you're considering getting into niche PC games, or are curious about the viability of popular smartphone games. \n",
    "\n",
    "In any case, we should analyze the ebbs and flows of the console industry. In doing so, we'll meaningfully identify differences in various game-types' successes, assess the factors that contribute to those successes, and build a gauge of where the market for this form of entertainment is headed. \n",
    "\n",
    "### *What you'll be investigating...*\n",
    "    - Are the sales-rates for games of different platforms changing significantly with time?\n",
    "    - If so, are standard console games' sales faltering in that changing environment?\n",
    "    - Which factors contribute to sales, and can they be modelled to predict sales?\n",
    "    \n",
    "For all this, we'll be using the Python programming language, some data, and data-science concepts. It's ok if you don't have experience with these! You'll be going on a step-by-step walkthrough of a typical data-oriented analysis project. Here, your data will be about the financial successes of the video game industry, and your analysis will evaluate console performance in regards to other forms of gaming. Then, you will:\n",
    "    - collect relevant data on industry performance\n",
    "    - process the data and prepare it for statistical analysis\n",
    "    - perform introductory exploration of the data to determine hypotheses of interest\n",
    "    - test theories, use machine learning to model aspects of the data, and test your models\n",
    "    - yield useful insight from your results, and address the flaws of your experimentation"
   ]
  },
  {
   "cell_type": "markdown",
   "metadata": {},
   "source": [
    "## Step 1: Data Collection\n",
    "First note that our data is hosted at the following site, and can be accessed directly via the 'Download' option. The data, in broad terms, covers critical and commercial data regarding various games, from various developers, and on various platforms. It does so for games from (at the earliest) 1982 up until December of 2016. Further details are explained below. \n",
    "    - https://www.kaggle.com/rush4ratio/video-game-sales-with-ratings/data\n",
    "   \n",
    "Now, this step is actually pretty straightforward! We import *pandas* and *numpy*, libraries that will help us store, organize, and process our data. We navigate to the download option of the above site, and find the exact URL address of the dataset on the Kaggle server. We use that address, and a pandas library function, to read that dataset into a desirable format, and then output a portion of it to see what we have."
   ]
  },
  {
   "cell_type": "code",
   "execution_count": 2,
   "metadata": {},
   "outputs": [
    {
     "data": {
      "text/html": [
       "<div>\n",
       "<table border=\"1\" class=\"dataframe\">\n",
       "  <thead>\n",
       "    <tr style=\"text-align: right;\">\n",
       "      <th></th>\n",
       "      <th>Name</th>\n",
       "      <th>Platform</th>\n",
       "      <th>Year_of_Release</th>\n",
       "      <th>Genre</th>\n",
       "      <th>Publisher</th>\n",
       "      <th>NA_Sales</th>\n",
       "      <th>EU_Sales</th>\n",
       "      <th>JP_Sales</th>\n",
       "      <th>Other_Sales</th>\n",
       "      <th>Global_Sales</th>\n",
       "      <th>Critic_Score</th>\n",
       "      <th>Critic_Count</th>\n",
       "      <th>User_Score</th>\n",
       "      <th>User_Count</th>\n",
       "      <th>Developer</th>\n",
       "      <th>Rating</th>\n",
       "    </tr>\n",
       "  </thead>\n",
       "  <tbody>\n",
       "    <tr>\n",
       "      <th>0</th>\n",
       "      <td>Wii Sports</td>\n",
       "      <td>Wii</td>\n",
       "      <td>2006.0</td>\n",
       "      <td>Sports</td>\n",
       "      <td>Nintendo</td>\n",
       "      <td>41.36</td>\n",
       "      <td>28.96</td>\n",
       "      <td>3.77</td>\n",
       "      <td>8.45</td>\n",
       "      <td>82.53</td>\n",
       "      <td>76.0</td>\n",
       "      <td>51.0</td>\n",
       "      <td>8</td>\n",
       "      <td>322.0</td>\n",
       "      <td>Nintendo</td>\n",
       "      <td>E</td>\n",
       "    </tr>\n",
       "    <tr>\n",
       "      <th>1</th>\n",
       "      <td>Super Mario Bros.</td>\n",
       "      <td>NES</td>\n",
       "      <td>1985.0</td>\n",
       "      <td>Platform</td>\n",
       "      <td>Nintendo</td>\n",
       "      <td>29.08</td>\n",
       "      <td>3.58</td>\n",
       "      <td>6.81</td>\n",
       "      <td>0.77</td>\n",
       "      <td>40.24</td>\n",
       "      <td>NaN</td>\n",
       "      <td>NaN</td>\n",
       "      <td>NaN</td>\n",
       "      <td>NaN</td>\n",
       "      <td>NaN</td>\n",
       "      <td>NaN</td>\n",
       "    </tr>\n",
       "    <tr>\n",
       "      <th>2</th>\n",
       "      <td>Mario Kart Wii</td>\n",
       "      <td>Wii</td>\n",
       "      <td>2008.0</td>\n",
       "      <td>Racing</td>\n",
       "      <td>Nintendo</td>\n",
       "      <td>15.68</td>\n",
       "      <td>12.76</td>\n",
       "      <td>3.79</td>\n",
       "      <td>3.29</td>\n",
       "      <td>35.52</td>\n",
       "      <td>82.0</td>\n",
       "      <td>73.0</td>\n",
       "      <td>8.3</td>\n",
       "      <td>709.0</td>\n",
       "      <td>Nintendo</td>\n",
       "      <td>E</td>\n",
       "    </tr>\n",
       "    <tr>\n",
       "      <th>3</th>\n",
       "      <td>Wii Sports Resort</td>\n",
       "      <td>Wii</td>\n",
       "      <td>2009.0</td>\n",
       "      <td>Sports</td>\n",
       "      <td>Nintendo</td>\n",
       "      <td>15.61</td>\n",
       "      <td>10.93</td>\n",
       "      <td>3.28</td>\n",
       "      <td>2.95</td>\n",
       "      <td>32.77</td>\n",
       "      <td>80.0</td>\n",
       "      <td>73.0</td>\n",
       "      <td>8</td>\n",
       "      <td>192.0</td>\n",
       "      <td>Nintendo</td>\n",
       "      <td>E</td>\n",
       "    </tr>\n",
       "    <tr>\n",
       "      <th>4</th>\n",
       "      <td>Pokemon Red/Pokemon Blue</td>\n",
       "      <td>GB</td>\n",
       "      <td>1996.0</td>\n",
       "      <td>Role-Playing</td>\n",
       "      <td>Nintendo</td>\n",
       "      <td>11.27</td>\n",
       "      <td>8.89</td>\n",
       "      <td>10.22</td>\n",
       "      <td>1.00</td>\n",
       "      <td>31.37</td>\n",
       "      <td>NaN</td>\n",
       "      <td>NaN</td>\n",
       "      <td>NaN</td>\n",
       "      <td>NaN</td>\n",
       "      <td>NaN</td>\n",
       "      <td>NaN</td>\n",
       "    </tr>\n",
       "  </tbody>\n",
       "</table>\n",
       "</div>"
      ],
      "text/plain": [
       "                       Name Platform  Year_of_Release         Genre Publisher  \\\n",
       "0                Wii Sports      Wii           2006.0        Sports  Nintendo   \n",
       "1         Super Mario Bros.      NES           1985.0      Platform  Nintendo   \n",
       "2            Mario Kart Wii      Wii           2008.0        Racing  Nintendo   \n",
       "3         Wii Sports Resort      Wii           2009.0        Sports  Nintendo   \n",
       "4  Pokemon Red/Pokemon Blue       GB           1996.0  Role-Playing  Nintendo   \n",
       "\n",
       "   NA_Sales  EU_Sales  JP_Sales  Other_Sales  Global_Sales  Critic_Score  \\\n",
       "0     41.36     28.96      3.77         8.45         82.53          76.0   \n",
       "1     29.08      3.58      6.81         0.77         40.24           NaN   \n",
       "2     15.68     12.76      3.79         3.29         35.52          82.0   \n",
       "3     15.61     10.93      3.28         2.95         32.77          80.0   \n",
       "4     11.27      8.89     10.22         1.00         31.37           NaN   \n",
       "\n",
       "   Critic_Count User_Score  User_Count Developer Rating  \n",
       "0          51.0          8       322.0  Nintendo      E  \n",
       "1           NaN        NaN         NaN       NaN    NaN  \n",
       "2          73.0        8.3       709.0  Nintendo      E  \n",
       "3          73.0          8       192.0  Nintendo      E  \n",
       "4           NaN        NaN         NaN       NaN    NaN  "
      ]
     },
     "execution_count": 2,
     "metadata": {},
     "output_type": "execute_result"
    }
   ],
   "source": [
    "# import the libraries that will help us manage and analyze data\n",
    "import pandas as pd\n",
    "import numpy as np\n",
    "\n",
    "# retain as a string variable the source of the csv file\n",
    "page = 'https://github.com/otacke/udacity-machine-learning-engineer/raw/master' \n",
    "\n",
    "# retain as a string variable the exact url extension of the csv file\n",
    "csv = '/submissions/capstone_project/data/Video_Games_Sales_as_at_22_Dec_2016.csv'\n",
    "\n",
    "# combine the string variables, load the csv file into a pandas dataframe\n",
    "df = pd.read_csv(page + csv)\n",
    "\n",
    "# output a sample of the data for context and correctness\n",
    "df.head()"
   ]
  },
  {
   "cell_type": "markdown",
   "metadata": {},
   "source": [
    "##### A brief summary:\n",
    "So, what does our initial data look like? Each row represents a unique game, distinguished by name. A game has a platform, release year, publisher, and developer as attributes or columns. Other attributes further describe a game, such as Genre and Rating. Also, there are critics' and users' scores, indicating (on average) how games were received by each. The count attributes for these columns represent the number of people that contributed to that average. \n",
    "\n",
    "Finally, we have a plethora of sales information. Refer to the source page for full details. In summary, sales are in millions of units. NA_sales refers to North American Sales, EU to the European Union, JP to Japanese, Global to worldwide sales, and Other to possible sales in Asia, Africa, or South America. \n",
    "\n",
    "This is a lot of complicated data - in the next step, we'll filter some of the irrelevant parts out!"
   ]
  },
  {
   "cell_type": "markdown",
   "metadata": {},
   "source": [
    "## Step 2: Data Processing\n",
    "__Note__! Python is an easy language to intuit, but if you're curious about the inner workings of the many commands we use to operate upon our dataset, explore these documentations for the *pandas* and *numpy* libraries, which outline the functions we will use to transform our dataset. \n",
    "    - https://pandas.pydata.org/pandas-docs/stable/dsintro.html\n",
    "    - https://docs.scipy.org/doc/numpy/reference/\n",
    "\n",
    "Our data is messy and extraneous. So we'll first remove columns that don't relate to our analysis. We're concerned with American and global sales, so let's remove the others. Scores from critics and users may matter, but their counts  won't - those will go, too. Finally, we keep the platform (consoles vs. non-consoles) column, but disregard publishers, developers and maturity ratings.\n",
    "\n",
    "Next, we'll sort the data by year and then by name, in ascending order. After that, we'll assess the unique types of gaming platforms that the set provides (printed below). We need to rename some values clearly. Essentially, we label the portable (Nintendo, Gameboy, and PlayStation) consoles, and the non-portable PlayStation and Xbox consoles. PC and Dreamcast are, for now, left as is. \n",
    "\n",
    "__Note__! PC and Dreamcast are the only atypical gaming types in this set. And Dreamcast is an old system! It can transform into a handheld OR standard console, much like the new Nintendo Switch. Hence, we'll remove entries with Dreamcast games. So PC is our only gauge of non-console gaming. However, since the conversation regarding the demise of consoles is centered around rising PC usage, this is an acceptable feature for our project. \n",
    "\n",
    "Given these categories, we'll create a new column, which refers to the *general* type of a platform. PC refers to non-console gaming, while portable and non-portable consoles are the other types. This makes for 3 possible values for each row of this new column, based on the modified platform attribute. \n",
    "\n",
    "__Note__! All sales were standardized (made into comparable format) via a formula derived by the data provider. But we'll have to standardize scores, as they are on different scales. Divide each score column by the column's max. value, making each value  relative to its column's maximum. Then, each critic or user score is a value between 0 and 1 (relative to the max. possible critic or user score). The meaning is unchanged - higher scores are still better. "
   ]
  },
  {
   "cell_type": "code",
   "execution_count": 3,
   "metadata": {},
   "outputs": [
    {
     "name": "stdout",
     "output_type": "stream",
     "text": [
      "\n",
      "\n",
      "Initial Distinct Platform Values:\n",
      "\n",
      " ['PC' 'PS' 'DC' 'PS2' 'XB' 'GBA' 'GC' 'PSP' 'DS' 'X360' 'PS3' 'Wii' '3DS'\n",
      " 'PSV' 'WiiU' 'PS4' 'XOne']\n",
      "\n"
     ]
    },
    {
     "data": {
      "text/html": [
       "<div>\n",
       "<table border=\"1\" class=\"dataframe\">\n",
       "  <thead>\n",
       "    <tr style=\"text-align: right;\">\n",
       "      <th></th>\n",
       "      <th>Name</th>\n",
       "      <th>Platform</th>\n",
       "      <th>Year_of_Release</th>\n",
       "      <th>Genre</th>\n",
       "      <th>NA_Sales</th>\n",
       "      <th>Global_Sales</th>\n",
       "      <th>Critic_Score</th>\n",
       "      <th>User_Score</th>\n",
       "      <th>Platform_Type</th>\n",
       "    </tr>\n",
       "  </thead>\n",
       "  <tbody>\n",
       "    <tr>\n",
       "      <th>14472</th>\n",
       "      <td>Alter Ego</td>\n",
       "      <td>PC</td>\n",
       "      <td>1985.0</td>\n",
       "      <td>Simulation</td>\n",
       "      <td>0.00</td>\n",
       "      <td>0.03</td>\n",
       "      <td>0.602041</td>\n",
       "      <td>0.604167</td>\n",
       "      <td>Non-Console</td>\n",
       "    </tr>\n",
       "    <tr>\n",
       "      <th>14623</th>\n",
       "      <td>SimCity</td>\n",
       "      <td>PC</td>\n",
       "      <td>1988.0</td>\n",
       "      <td>Simulation</td>\n",
       "      <td>0.00</td>\n",
       "      <td>0.03</td>\n",
       "      <td>0.653061</td>\n",
       "      <td>0.229167</td>\n",
       "      <td>Non-Console</td>\n",
       "    </tr>\n",
       "    <tr>\n",
       "      <th>14612</th>\n",
       "      <td>Doom</td>\n",
       "      <td>PC</td>\n",
       "      <td>1992.0</td>\n",
       "      <td>Shooter</td>\n",
       "      <td>0.02</td>\n",
       "      <td>0.03</td>\n",
       "      <td>0.867347</td>\n",
       "      <td>0.854167</td>\n",
       "      <td>Non-Console</td>\n",
       "    </tr>\n",
       "    <tr>\n",
       "      <th>1567</th>\n",
       "      <td>Battle Arena Toshinden</td>\n",
       "      <td>PlayStation</td>\n",
       "      <td>1994.0</td>\n",
       "      <td>Fighting</td>\n",
       "      <td>0.39</td>\n",
       "      <td>1.27</td>\n",
       "      <td>0.704082</td>\n",
       "      <td>0.656250</td>\n",
       "      <td>Standard Console</td>\n",
       "    </tr>\n",
       "    <tr>\n",
       "      <th>1160</th>\n",
       "      <td>Diablo</td>\n",
       "      <td>PC</td>\n",
       "      <td>1996.0</td>\n",
       "      <td>Role-Playing</td>\n",
       "      <td>0.01</td>\n",
       "      <td>1.59</td>\n",
       "      <td>0.959184</td>\n",
       "      <td>0.906250</td>\n",
       "      <td>Non-Console</td>\n",
       "    </tr>\n",
       "  </tbody>\n",
       "</table>\n",
       "</div>"
      ],
      "text/plain": [
       "                         Name     Platform  Year_of_Release         Genre  \\\n",
       "14472               Alter Ego           PC           1985.0    Simulation   \n",
       "14623                 SimCity           PC           1988.0    Simulation   \n",
       "14612                    Doom           PC           1992.0       Shooter   \n",
       "1567   Battle Arena Toshinden  PlayStation           1994.0      Fighting   \n",
       "1160                   Diablo           PC           1996.0  Role-Playing   \n",
       "\n",
       "       NA_Sales  Global_Sales  Critic_Score  User_Score     Platform_Type  \n",
       "14472      0.00          0.03      0.602041    0.604167       Non-Console  \n",
       "14623      0.00          0.03      0.653061    0.229167       Non-Console  \n",
       "14612      0.02          0.03      0.867347    0.854167       Non-Console  \n",
       "1567       0.39          1.27      0.704082    0.656250  Standard Console  \n",
       "1160       0.01          1.59      0.959184    0.906250       Non-Console  "
      ]
     },
     "execution_count": 3,
     "metadata": {},
     "output_type": "execute_result"
    }
   ],
   "source": [
    "# work on a copy of our data set\n",
    "processing_df = df.copy()\n",
    "\n",
    "# identify the columns we find irrelevant\n",
    "remove = ['EU_Sales', 'JP_Sales', 'Other_Sales', 'Critic_Count', \n",
    "          'User_Count', 'Developer', 'Publisher', 'Rating'\n",
    "         ]\n",
    "\n",
    "# remove those columns from the data set we are working on\n",
    "processing_df.drop(remove, axis = 1, inplace = True)\n",
    "\n",
    "# now, remove any rows which have an unusable/NaN value for any column\n",
    "processing_df = processing_df.dropna()\n",
    "\n",
    "# sort the rows by year of release first, then name, in ascending order\n",
    "processing_df = processing_df.sort_values(['Year_of_Release', 'Name'])\n",
    "\n",
    "# find all distinct values for the platforms of all of the games\n",
    "distinct = processing_df.Platform.unique()\n",
    "\n",
    "# let's see all the different types of platforms \n",
    "print('\\n\\nInitial Distinct Platform Values:\\n\\n', distinct, end = '\\n\\n')\n",
    "\n",
    "# DC refers to Dreamcast, replace all occurrences of DC with more descriptive name\n",
    "processing_df['Platform'].replace('DC', 'Dreamcast', inplace = True)\n",
    "\n",
    "# however, Dreamcast is obsolete - so the set is changed to exclude those rows\n",
    "processing_df = processing_df[processing_df.Platform != 'Dreamcast']\n",
    "\n",
    "# replace all PS (1-4) with a standard PlayStation-console label\n",
    "processing_df['Platform'].replace(['PS','PS2','PS3','PS4'], 'PlayStation', inplace = True)\n",
    "\n",
    "# PSP and PSV refer to portable PSN, replace all with PlayStation Handheld label\n",
    "processing_df['Platform'].replace(['PSP','PSV'], 'Handheld PlayStation', inplace = True)\n",
    "\n",
    "# GBA and GC refer to GameBoys, replace with GameBoy label\n",
    "processing_df['Platform'].replace(['GBA','GC'], 'GameBoy', inplace = True)\n",
    "\n",
    "# DS and 3DS refer to Nintendo DS, replace with relevant label\n",
    "processing_df['Platform'].replace(['DS','3DS'], 'Nintendo DS', inplace = True)\n",
    "\n",
    "# all X-consoles refer to Xbox, replace with relevant label \n",
    "processing_df['Platform'].replace(['XB','X360','XOne'], 'Xbox', inplace = True)\n",
    "\n",
    "# all Wii-console refer to Wii, replace with relevant label\n",
    "processing_df['Platform'].replace(['Wii','WiiU'], 'Wii',inplace=True)\n",
    "\n",
    "# a list of 7 boolean conditions \n",
    "conditions = [\n",
    "    \n",
    "    # first 3: a row's Platform value is any of the handheld-console system\n",
    "    (processing_df['Platform'] == 'PlayStation Handheld'),\n",
    "    (processing_df['Platform'] == 'Game Boy'),\n",
    "    (processing_df['Platform'] == 'Nintendo DS'),\n",
    "    \n",
    "    # next 3: a row's Platform value is any of the standard-console system\n",
    "    (processing_df['Platform'] == 'PlayStation'),\n",
    "    (processing_df['Platform'] == 'Xbox'),\n",
    "    (processing_df['Platform'] == 'Wii'),\n",
    "\n",
    "    # last 1: a row's Platform value is any of the non-console system\n",
    "    (processing_df['Platform'] == 'PC')\n",
    "]\n",
    "\n",
    "# each of those 7 conditions correspond to one of 7 console choices\n",
    "choices = [\n",
    "    \n",
    "    # first 3: a handheld console\n",
    "    'Handheld Console', \n",
    "    'Handheld Console',\n",
    "    'Handheld Console',\n",
    "    \n",
    "    # next 3: a traditional console\n",
    "    'Standard Console',\n",
    "    'Standard Console',\n",
    "    'Standard Console',\n",
    "\n",
    "    # last 1: not a console\n",
    "    'Non-Console'\n",
    "]\n",
    "\n",
    "# new column: console type, from the 7 choices, based on the condition they fall into\n",
    "processing_df['Platform_Type'] = np.select(conditions, choices, default = 'N/A')\n",
    "\n",
    "# in user scores, missing scores are words, so keep rows that don't contain letters\n",
    "processing_df = processing_df[~processing_df['User_Score'].str.contains('[a-zA-Z]')]\n",
    "\n",
    "# ensure that the user score column values are decimal numbers\n",
    "processing_df['User_Score'] = pd.to_numeric(processing_df['User_Score'])\n",
    "\n",
    "# ensure that the critic score column values are decimal numbers\n",
    "processing_df['Critic_Score'] = pd.to_numeric(processing_df['Critic_Score'])\n",
    "\n",
    "# find the max user score\n",
    "max_u = processing_df['User_Score'].max()\n",
    "\n",
    "# find the max critic score\n",
    "max_c = processing_df['Critic_Score'].max()\n",
    "\n",
    "# new column: standardized user score, divide each user score by max user score\n",
    "processing_df['User_Score'] = processing_df['User_Score'] / max_u\n",
    "\n",
    "# new column: standardized critic score, divide each user score by max critic score\n",
    "processing_df['Critic_Score'] = processing_df['Critic_Score'] / max_c\n",
    "\n",
    "# output sample of processed dataset - we are ready to do real analysis!\n",
    "processing_df.head()"
   ]
  },
  {
   "cell_type": "markdown",
   "metadata": {},
   "source": [
    "## Step 3: Exploratory Data Analysis & Visualization\n",
    "We still don't have a guage of what our data really 'looks like'. So, we need to see if our experimental questions have any value; for instance, is it worth it to explore changes in sales over time - or to comapre the influence of scores and genres on financial success? Let's take a look!\n",
    "\n",
    "Essentially, we're going to compute and visualize some broad statistical comparisons between our attributes, and use the results to orient our later tests and models. More specifically, we'll first perform some simple statistical procedures, which will help us discover certain patterns and trends in the data. We'll leave the rigorous analysis, modelling, and testing for the next step. \n",
    "\n",
    "Before we begin, we'll need to use the *matplotlib* library for visualizations, whose documentation is provided below. Peruse through it - but keep in mind, the various commands for plotting aren't the most important parts of the below code. \n",
    "    - https://matplotlib.org/contents.html "
   ]
  },
  {
   "cell_type": "code",
   "execution_count": 5,
   "metadata": {
    "collapsed": true
   },
   "outputs": [],
   "source": [
    "# import plotting library\n",
    "from matplotlib import pyplot as pp\n",
    "\n",
    "# set up plotting environment\n",
    "% matplotlib inline"
   ]
  },
  {
   "cell_type": "markdown",
   "metadata": {},
   "source": [
    "It is now necessary to look into simple linear regression: a concept that will be used and expanded upon many times in the remainder of this project. In general terms, linear regression is a mathematical procedure that takes in data like ours (in a more organized format), and is told to predict one of the data's features, based on some other features. The link below, from Penn. State, is an academic source that can explain this concept far more effectively:\n",
    "    - https://onlinecourses.science.psu.edu/stat501/node/250\n",
    "    \n",
    "As you may be thinking, some of our data isn't numeric! Fortunately, linear regression works in these cases, too. For the theory behind such 'categorical' features (in particular, predictors that take one of a finite amount of qualitative values), visit the follow-up resource to the above PSU link. It's followed by a portion of the *numpy* documentation that outlines how we'll achieve simple linear regression in our code below:\n",
    "    - https://onlinecourses.science.psu.edu/stat501/node/301\n",
    "    - https://docs.scipy.org/doc/numpy-1.13.0/reference/generated/numpy.polyfit.html\n",
    "\n",
    "Our methods below are informal; right now, we're interested in the bigger picture, not in peak accuracy. Before we begin, we saved you some work - we went through the global sales values, and found an extreme maximum outlier that skewed all plots. We exclude this data point for now, but will use it in Step 4. \n",
    "    \n",
    "Also, let's keep our attention on global sales (which, by definition, incorporates North American sales). Our first scatter plot will group all the sales-values by their Console_Type value, and color them clearly on the plot. It will then plot all sales over time, but perform simple linear regression for each of the three Console_Type categories. The result will be three lines of best fit, which reveal the general change in sales for each platform type, over time. "
   ]
  },
  {
   "cell_type": "code",
   "execution_count": 6,
   "metadata": {
    "scrolled": false
   },
   "outputs": [
    {
     "data": {
      "image/png": "[encoded data removed]",
      "text/plain": [
       "<matplotlib.figure.Figure at 0x7f5949767f98>"
      ]
     },
     "metadata": {},
     "output_type": "display_data"
    }
   ],
   "source": [
    "# set plot sizes and colors\n",
    "pp.rcParams['figure.figsize'] = (10, 7)\n",
    "pp.rcParams['axes.facecolor'] = 'grey'\n",
    "\n",
    "# work with a copy of the dataset processed in Step 2\n",
    "cdf = processing_df.copy()\n",
    "\n",
    "# for global sales, the max. sale is an extreme outlier\n",
    "gl_outlier = cdf['Global_Sales'].max()\n",
    "\n",
    "# optional: this is an informal plot, so let's exclude the outlier\n",
    "cdf = cdf[cdf['Global_Sales'] != gl_outlier]\n",
    "\n",
    "# also exclude rows with unavailable (n/a) console types\n",
    "cdf = cdf[cdf['Platform_Type'] != 'N/A']\n",
    "\n",
    "# create an empty plot\n",
    "fig, ax = pp.subplots()\n",
    "\n",
    "# dataframe based on current one, with year, global sales, console type\n",
    "temp_df1 = cdf[['Year_of_Release', 'Global_Sales', 'Platform_Type']]\n",
    "\n",
    "# we'll need an index as we go through the three groups of console types\n",
    "i = 0\n",
    "\n",
    "# two arrays of colors - used for differentiating plotted console types \n",
    "c1 = ['yellow', 'red', 'white']\n",
    "c2 = ['yellow', 'red', 'black']\n",
    "\n",
    "# group both by Console Type (by the three possible console values)\n",
    "for name, group in temp_df1.groupby(['Platform_Type']):\n",
    "    \n",
    "    # simple linear regression with year as predictor x, sales as response y\n",
    "    line_fit = np.polyfit(group['Year_of_Release'], group['Global_Sales'], deg = 1)\n",
    "    \n",
    "    # build the model equation from the results of the regression above\n",
    "    eq = line_fit[0] * group['Year_of_Release'] + line_fit[1]\n",
    "    \n",
    "    # plot the line of best fit resulting from that model equation\n",
    "    ax.plot(group['Year_of_Release'], eq, color = c1[i], label = name) \n",
    "    \n",
    "    # plot the actual data points, too, and label and color them properly\n",
    "    ax.scatter(group['Year_of_Release'], \n",
    "               group['Global_Sales'], \n",
    "               label = name, \n",
    "               color = c2[i])\n",
    "    \n",
    "    # label axes and title the plot\n",
    "    ax.set(xlabel = 'Release Year', \n",
    "           ylabel = 'Global Sales', \n",
    "           title = 'Console vs. Non-Console Sales Over Time')\n",
    "    \n",
    "    # show a legend to distinguish the data\n",
    "    ax.legend()\n",
    "    \n",
    "    # increment the index to change the colors used in our plots\n",
    "    i += 1"
   ]
  },
  {
   "cell_type": "markdown",
   "metadata": {},
   "source": [
    "##### A brief summary:\n",
    "Stuff."
   ]
  },
  {
   "cell_type": "markdown",
   "metadata": {},
   "source": []
  },
  {
   "cell_type": "code",
   "execution_count": null,
   "metadata": {
    "collapsed": true
   },
   "outputs": [],
   "source": [
    "##### Plotting Sales by Genre ##### \n"
   ]
  },
  {
   "cell_type": "markdown",
   "metadata": {},
   "source": [
    "##### A brief summary:\n",
    "Stuff."
   ]
  },
  {
   "cell_type": "markdown",
   "metadata": {},
   "source": [
    "Our last task will be another scatter plot - this time, correlating the effects of scores from users and critics, on global sales. We'll use the same grouping method as before, and the same linear regression procedure. Our result will be two lines of best fit, for the relations between sales and each of the two score types. "
   ]
  },
  {
   "cell_type": "code",
   "execution_count": 8,
   "metadata": {},
   "outputs": [
    {
     "data": {
      "text/plain": [
       "<matplotlib.legend.Legend at 0x7f59474a4be0>"
      ]
     },
     "execution_count": 8,
     "metadata": {},
     "output_type": "execute_result"
    },
    {
     "data": {
      "image/png": "[encoded data removed]",
      "text/plain": [
       "<matplotlib.figure.Figure at 0x7f59476262e8>"
      ]
     },
     "metadata": {},
     "output_type": "display_data"
    }
   ],
   "source": [
    "# create an empty plot\n",
    "fig, ax = pp.subplots()\n",
    "\n",
    "# simple linear regression with predictor critic-score, response sales\n",
    "fit_c = np.polyfit(cdf['Critic_Score'], cdf['Global_Sales'], deg = 1)\n",
    "\n",
    "# simple linear regression with predictor user score, response sales\n",
    "fit_u = np.polyfit(cdf['User_Score'], cdf['Global_Sales'], deg = 1)\n",
    "\n",
    "# form model equations from the regression, then label and plot them\n",
    "ax.plot(cdf['Critic_Score'], \n",
    "        fit_c[0] * cdf['Critic_Score'] + fit_c[1], \n",
    "        color = 'red', \n",
    "        label = 'Critical Scores') \n",
    "\n",
    "# the above is for critic scores, and below, for user scores\n",
    "ax.plot(cdf['User_Score'], \n",
    "        fit_u[0] * cdf['User_Score'] + fit_u[1], \n",
    "        color = 'white', \n",
    "        label = 'User Scores')\n",
    "\n",
    "# plot and label the data for critic and user scores, and sales\n",
    "ax.scatter(x = cdf['Critic_Score'], \n",
    "           y = cdf['Global_Sales'], \n",
    "           color = 'red', \n",
    "           label = 'Critical Scores')\n",
    "\n",
    "# for user scores \n",
    "ax.scatter(x = cdf['User_Score'], \n",
    "           y = cdf['Global_Sales'], \n",
    "           color = 'black', \n",
    "           label = 'User Scores')\n",
    "\n",
    "# provide axis labels, a legend, and a title\n",
    "ax.set(xlabel = 'Score', ylabel = 'Global Sales', title = 'Correlation: Sales vs. Scores')\n",
    "ax.legend()"
   ]
  },
  {
   "cell_type": "markdown",
   "metadata": {},
   "source": [
    "##### A brief summary:\n",
    "Stuff."
   ]
  },
  {
   "cell_type": "markdown",
   "metadata": {},
   "source": [
    "## Step 4: Analysis, Hypothesis Testing, & Machine Learning\n",
    "\n",
    "http://scikit-learn.org/stable/modules/generated/sklearn.linear_model.LinearRegression.html\n",
    "\n",
    "http://scikit-learn.org/stable/modules/generated/sklearn.feature_selection.f_regression.html \n",
    "\n",
    "http://scikit-learn.org/stable/modules/sgd.html \n",
    "\n",
    "\n"
   ]
  },
  {
   "cell_type": "code",
   "execution_count": null,
   "metadata": {
    "collapsed": true
   },
   "outputs": [],
   "source": [
    "incorporate those above links into the writeup too"
   ]
  },
  {
   "cell_type": "code",
   "execution_count": null,
   "metadata": {
    "collapsed": true
   },
   "outputs": [],
   "source": [
    "model1 = smf.ols(formula='S2BQ3B ~ C(FAMHIST)', data=sub3).fit()\n",
    "print(model1.summary())\n",
    "\n",
    "use the smf stuff to redo the linear regressions above, but also try new models with more than one feature\n",
    "do the summary to find model statistics\n",
    "\n",
    "compare them, we will formally do this later step remember we took out outlier"
   ]
  },
  {
   "cell_type": "markdown",
   "metadata": {},
   "source": [
    "##### Explanations & Interpretations:"
   ]
  },
  {
   "cell_type": "markdown",
   "metadata": {},
   "source": [
    "## Step 5: Insights & Investigative Flaws"
   ]
  },
  {
   "cell_type": "markdown",
   "metadata": {},
   "source": [
    "*Well.*"
   ]
  },
  {
   "cell_type": "code",
   "execution_count": null,
   "metadata": {
    "collapsed": true
   },
   "outputs": [],
   "source": []
  }
 ],
 "metadata": {
  "kernelspec": {
   "display_name": "Python 3",
   "language": "python",
   "name": "python3"
  },
  "language_info": {
   "codemirror_mode": {
    "name": "ipython",
    "version": 3
   },
   "file_extension": ".py",
   "mimetype": "text/x-python",
   "name": "python",
   "nbconvert_exporter": "python",
   "pygments_lexer": "ipython3",
   "version": "3.6.2"
  }
 },
 "nbformat": 4,
 "nbformat_minor": 2
}
